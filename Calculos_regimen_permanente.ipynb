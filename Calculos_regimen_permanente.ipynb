{
 "cells": [
  {
   "cell_type": "code",
   "execution_count": 1,
   "metadata": {},
   "outputs": [],
   "source": [
    "import numpy as np\n",
    "import pandas as pd\n",
    "import pandapower as pp"
   ]
  },
  {
   "cell_type": "code",
   "execution_count": 81,
   "metadata": {},
   "outputs": [
    {
     "data": {
      "text/plain": [
       "1"
      ]
     },
     "execution_count": 81,
     "metadata": {},
     "output_type": "execute_result"
    }
   ],
   "source": [
    "# Crear red vacía\n",
    "net = pp.create_empty_network()\n",
    "\n",
    "# Agregar las barras y nodos\n",
    "pp.create_bus(net, name=\"R0\", vn_kv=12, type='b')\n",
    "pp.create_bus(net, name='R1', vn_kv=0.22, type='b')\n",
    "\n",
    "for i in range(2,19):\n",
    "    pp.create_bus(net, name=\"R%s\"%(i,), vn_kv=0.22, type='n')\n",
    "    \n",
    "# Red externa\n",
    "bus_ext_grid = net.bus[net.bus[\"name\"]=='R0'].index[0]\n",
    "pp.create_ext_grid(net, bus=bus_ext_grid, vm_pu=1.0, s_sc_max_mva=100.0,\n",
    "                   rx_max=0.1, x0x_max=1.0, r0x0_max=0.1)\n",
    "\n",
    "# Transformador\n",
    "bus_trafo_lv = net.bus[net.bus[\"name\"]=='R1'].index[0]\n",
    "pp.create_transformer(net,hv_bus=bus_ext_grid, lv_bus=bus_trafo_lv,\n",
    "                      std_type='0.4 MVA 20/0.4 kV')\n",
    "\n",
    "# Lineas\n",
    "for i in range(1,10): # Líneas UG1\n",
    "    pp.create_line_from_parameters(net, from_bus=i, to_bus=i+1, length_km=0.035,\n",
    "                                  r_ohm_per_km=0.211, x_ohm_per_km=0.747,\n",
    "                                  c_nf_per_km=0.0, max_i_ka=0.364)\n",
    "# Lineas UG3\n",
    "pp.create_line_from_parameters(net, from_bus=3, to_bus=11, length_km=0.03,\n",
    "                               r_ohm_per_km=0.871, x_ohm_per_km=0.797,\n",
    "                               c_nf_per_km=0.0, max_i_ka=0.158)\n",
    "pp.create_line_from_parameters(net, from_bus=4, to_bus=12, length_km=0.035,\n",
    "                               r_ohm_per_km=0.871, x_ohm_per_km=0.797,\n",
    "                               c_nf_per_km=0.0, max_i_ka=0.158)\n",
    "pp.create_line_from_parameters(net, from_bus=12, to_bus=13, length_km=0.035,\n",
    "                               r_ohm_per_km=0.871, x_ohm_per_km=0.797,\n",
    "                               c_nf_per_km=0.0, max_i_ka=0.158)\n",
    "pp.create_line_from_parameters(net, from_bus=13, to_bus=14, length_km=0.035,\n",
    "                               r_ohm_per_km=0.871, x_ohm_per_km=0.797,\n",
    "                               c_nf_per_km=0.0, max_i_ka=0.158)\n",
    "pp.create_line_from_parameters(net, from_bus=14, to_bus=15, length_km=0.03,\n",
    "                               r_ohm_per_km=0.871, x_ohm_per_km=0.797,\n",
    "                               c_nf_per_km=0.0, max_i_ka=0.158)\n",
    "pp.create_line_from_parameters(net, from_bus=6, to_bus=16, length_km=0.03,\n",
    "                               r_ohm_per_km=0.871, x_ohm_per_km=0.797,\n",
    "                               c_nf_per_km=0.0, max_i_ka=0.158)\n",
    "pp.create_line_from_parameters(net, from_bus=9, to_bus=17, length_km=0.03,\n",
    "                               r_ohm_per_km=0.871, x_ohm_per_km=0.797,\n",
    "                               c_nf_per_km=0.0, max_i_ka=0.158)\n",
    "pp.create_line_from_parameters(net, from_bus=10, to_bus=18, length_km=0.03,\n",
    "                               r_ohm_per_km=0.871, x_ohm_per_km=0.797,\n",
    "                               c_nf_per_km=0.0, max_i_ka=0.158)\n",
    "\n",
    "# Circuit breaker\n",
    "pp.create_switch(net, bus=1, element=0, et='l',type='CB')\n",
    "\n",
    "# Cargas\n",
    "#pp.create_asymmetric_load(net, bus=11, p_a_mw=850.0/1e6, p_b_mw=1700.0/1e6, p_c_mw=2295.0/1e6,\n",
    "#                         q_a_mvar=526.782/1e6, q_b_mvar=1053.565/1e6, q_c_mvar=1422.313/1e6)\n",
    "#pp.create_asymmetric_load(net, bus=15, p_a_mw=4080.0/1e6, p_b_mw=5440.0/1e6, p_c_mw=6800.0/1e6,\n",
    "#                         q_a_mvar=2528.557/1e6, q_b_mvar=3371.409/1e6, q_c_mvar=4214.262/1e6)\n",
    "#pp.create_asymmetric_load(net, bus=16, p_a_mw=4080.0/1e6, p_b_mw=5440.0/1e6, p_c_mw=6800.0/1e6,\n",
    "#                         q_a_mvar=2528.557/1e6, q_b_mvar=3371.409/1e6, q_c_mvar=4214.262/1e6)\n",
    "#pp.create_asymmetric_load(net, bus=17, p_a_mw=0.0/1e6, p_b_mw=0.0/1e6, p_c_mw=2295.0/1e6,\n",
    "#                         q_a_mvar=0.0/1e6, q_b_mvar=0.0/1e6, q_c_mvar=1422.313/1e6)\n",
    "#pp.create_asymmetric_load(net, bus=18, p_a_mw=1360.0/1e6, p_b_mw=2720.0/1e6, p_c_mw=3400.0/1e6,\n",
    "#                         q_a_mvar=842.852/1e6, q_b_mvar=1685.705/1e6, q_c_mvar=2107.131/1e6)\n",
    "\n",
    "pp.create_load(net, bus=11, p_mw=5700*0.85/1e6, q_mvar=5700*np.sqrt(1-0.85**2)/1e6)\n",
    "pp.create_load(net, bus=15, p_mw=19200*0.85/1e6, q_mvar=19200*np.sqrt(1-0.85**2)/1e6)\n",
    "pp.create_load(net, bus=16, p_mw=19200*0.85/1e6, q_mvar=19200*np.sqrt(1-0.85**2)/1e6)\n",
    "pp.create_load(net, bus=17, p_mw=2700*0.85/1e6, q_mvar=2700*np.sqrt(1-0.85**2)/1e6)\n",
    "pp.create_load(net, bus=11, p_mw=8800*0.85/1e6, q_mvar=8800*np.sqrt(1-0.85**2)/1e6)\n",
    "\n",
    "\n",
    "# Generación distribuida no despachable\n",
    "pp.create_sgen(net, bus=15, p_mw=5500.0/1e6, q_mvar=0.0, type=\"WP\")\n",
    "pp.create_sgen(net, bus=16, p_mw=4000.0/1e6, q_mvar=0.0, type=\"PV\")\n",
    "pp.create_sgen(net, bus=18, p_mw=3000.0/1e6, q_mvar=0.0, type=\"PV\")\n",
    "\n",
    "# Inversores grid supporting\n",
    "pp.create_gen(net, bus=6, p_mw=None, sn_mva=35000.0/1e6, slack=True)\n",
    "pp.create_gen(net, bus=10, p_mw=None, sn_mva=25000.0/1e6, slack=True)"
   ]
  },
  {
   "cell_type": "code",
   "execution_count": 82,
   "metadata": {},
   "outputs": [],
   "source": [
    "net.switch['closed']=False"
   ]
  },
  {
   "cell_type": "code",
   "execution_count": 83,
   "metadata": {},
   "outputs": [
    {
     "data": {
      "text/html": [
       "<div>\n",
       "<style scoped>\n",
       "    .dataframe tbody tr th:only-of-type {\n",
       "        vertical-align: middle;\n",
       "    }\n",
       "\n",
       "    .dataframe tbody tr th {\n",
       "        vertical-align: top;\n",
       "    }\n",
       "\n",
       "    .dataframe thead th {\n",
       "        text-align: right;\n",
       "    }\n",
       "</style>\n",
       "<table border=\"1\" class=\"dataframe\">\n",
       "  <thead>\n",
       "    <tr style=\"text-align: right;\">\n",
       "      <th></th>\n",
       "      <th>bus</th>\n",
       "      <th>element</th>\n",
       "      <th>et</th>\n",
       "      <th>type</th>\n",
       "      <th>closed</th>\n",
       "      <th>name</th>\n",
       "      <th>z_ohm</th>\n",
       "    </tr>\n",
       "  </thead>\n",
       "  <tbody>\n",
       "    <tr>\n",
       "      <td>0</td>\n",
       "      <td>1</td>\n",
       "      <td>0</td>\n",
       "      <td>l</td>\n",
       "      <td>CB</td>\n",
       "      <td>False</td>\n",
       "      <td>None</td>\n",
       "      <td>0.0</td>\n",
       "    </tr>\n",
       "  </tbody>\n",
       "</table>\n",
       "</div>"
      ],
      "text/plain": [
       "   bus  element et type  closed  name  z_ohm\n",
       "0    1        0  l   CB   False  None    0.0"
      ]
     },
     "execution_count": 83,
     "metadata": {},
     "output_type": "execute_result"
    }
   ],
   "source": [
    "net.switch"
   ]
  },
  {
   "cell_type": "code",
   "execution_count": 84,
   "metadata": {},
   "outputs": [],
   "source": [
    "pp.runpp(net)"
   ]
  },
  {
   "cell_type": "code",
   "execution_count": 85,
   "metadata": {},
   "outputs": [
    {
     "data": {
      "text/plain": [
       "2006.6221685150063"
      ]
     },
     "execution_count": 85,
     "metadata": {},
     "output_type": "execute_result"
    }
   ],
   "source": [
    "np.sum(net.res_line['ql_mvar'])*1e6"
   ]
  },
  {
   "cell_type": "code",
   "execution_count": 86,
   "metadata": {},
   "outputs": [
    {
     "data": {
      "text/html": [
       "<div>\n",
       "<style scoped>\n",
       "    .dataframe tbody tr th:only-of-type {\n",
       "        vertical-align: middle;\n",
       "    }\n",
       "\n",
       "    .dataframe tbody tr th {\n",
       "        vertical-align: top;\n",
       "    }\n",
       "\n",
       "    .dataframe thead th {\n",
       "        text-align: right;\n",
       "    }\n",
       "</style>\n",
       "<table border=\"1\" class=\"dataframe\">\n",
       "  <thead>\n",
       "    <tr style=\"text-align: right;\">\n",
       "      <th></th>\n",
       "      <th>p_mw</th>\n",
       "      <th>q_mvar</th>\n",
       "      <th>va_degree</th>\n",
       "      <th>vm_pu</th>\n",
       "    </tr>\n",
       "  </thead>\n",
       "  <tbody>\n",
       "    <tr>\n",
       "      <td>0</td>\n",
       "      <td>0.037269</td>\n",
       "      <td>0.030220</td>\n",
       "      <td>0.0</td>\n",
       "      <td>1.0</td>\n",
       "    </tr>\n",
       "    <tr>\n",
       "      <td>1</td>\n",
       "      <td>-0.001270</td>\n",
       "      <td>0.001076</td>\n",
       "      <td>0.0</td>\n",
       "      <td>1.0</td>\n",
       "    </tr>\n",
       "  </tbody>\n",
       "</table>\n",
       "</div>"
      ],
      "text/plain": [
       "       p_mw    q_mvar  va_degree  vm_pu\n",
       "0  0.037269  0.030220        0.0    1.0\n",
       "1 -0.001270  0.001076        0.0    1.0"
      ]
     },
     "execution_count": 86,
     "metadata": {},
     "output_type": "execute_result"
    }
   ],
   "source": [
    "net.res_gen"
   ]
  },
  {
   "cell_type": "code",
   "execution_count": null,
   "metadata": {},
   "outputs": [],
   "source": []
  }
 ],
 "metadata": {
  "kernelspec": {
   "display_name": "Python 3",
   "language": "python",
   "name": "python3"
  },
  "language_info": {
   "codemirror_mode": {
    "name": "ipython",
    "version": 3
   },
   "file_extension": ".py",
   "mimetype": "text/x-python",
   "name": "python",
   "nbconvert_exporter": "python",
   "pygments_lexer": "ipython3",
   "version": "3.7.4"
  }
 },
 "nbformat": 4,
 "nbformat_minor": 2
}
